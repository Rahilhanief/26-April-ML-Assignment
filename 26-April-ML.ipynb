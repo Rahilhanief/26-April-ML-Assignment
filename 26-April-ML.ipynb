{
 "cells": [
  {
   "cell_type": "code",
   "execution_count": 1,
   "id": "9f0c8f98-9b27-48f7-923f-95a1309f709b",
   "metadata": {},
   "outputs": [],
   "source": [
    "import pandas as pd\n",
    "import matplotlib.pyplot as plt"
   ]
  },
  {
   "cell_type": "code",
   "execution_count": 18,
   "id": "3e1cae1f-ab95-49b7-8970-11ced032c2b0",
   "metadata": {},
   "outputs": [],
   "source": [
    "from sklearn.datasets import load_wine"
   ]
  },
  {
   "cell_type": "code",
   "execution_count": 19,
   "id": "4a976603-5542-49f9-9043-e9b102677ac3",
   "metadata": {},
   "outputs": [],
   "source": [
    "dataset =load_wine()"
   ]
  },
  {
   "cell_type": "code",
   "execution_count": 22,
   "id": "3d35e919-f00b-45e3-81d6-6b1cfc090e6a",
   "metadata": {},
   "outputs": [
    {
     "data": {
      "text/html": [
       "<div>\n",
       "<style scoped>\n",
       "    .dataframe tbody tr th:only-of-type {\n",
       "        vertical-align: middle;\n",
       "    }\n",
       "\n",
       "    .dataframe tbody tr th {\n",
       "        vertical-align: top;\n",
       "    }\n",
       "\n",
       "    .dataframe thead th {\n",
       "        text-align: right;\n",
       "    }\n",
       "</style>\n",
       "<table border=\"1\" class=\"dataframe\">\n",
       "  <thead>\n",
       "    <tr style=\"text-align: right;\">\n",
       "      <th></th>\n",
       "      <th>alcohol</th>\n",
       "      <th>malic_acid</th>\n",
       "      <th>ash</th>\n",
       "      <th>alcalinity_of_ash</th>\n",
       "      <th>magnesium</th>\n",
       "      <th>total_phenols</th>\n",
       "      <th>flavanoids</th>\n",
       "      <th>nonflavanoid_phenols</th>\n",
       "      <th>proanthocyanins</th>\n",
       "      <th>color_intensity</th>\n",
       "      <th>hue</th>\n",
       "      <th>od280/od315_of_diluted_wines</th>\n",
       "      <th>proline</th>\n",
       "    </tr>\n",
       "  </thead>\n",
       "  <tbody>\n",
       "    <tr>\n",
       "      <th>0</th>\n",
       "      <td>14.23</td>\n",
       "      <td>1.71</td>\n",
       "      <td>2.43</td>\n",
       "      <td>15.6</td>\n",
       "      <td>127.0</td>\n",
       "      <td>2.80</td>\n",
       "      <td>3.06</td>\n",
       "      <td>0.28</td>\n",
       "      <td>2.29</td>\n",
       "      <td>5.64</td>\n",
       "      <td>1.04</td>\n",
       "      <td>3.92</td>\n",
       "      <td>1065.0</td>\n",
       "    </tr>\n",
       "    <tr>\n",
       "      <th>1</th>\n",
       "      <td>13.20</td>\n",
       "      <td>1.78</td>\n",
       "      <td>2.14</td>\n",
       "      <td>11.2</td>\n",
       "      <td>100.0</td>\n",
       "      <td>2.65</td>\n",
       "      <td>2.76</td>\n",
       "      <td>0.26</td>\n",
       "      <td>1.28</td>\n",
       "      <td>4.38</td>\n",
       "      <td>1.05</td>\n",
       "      <td>3.40</td>\n",
       "      <td>1050.0</td>\n",
       "    </tr>\n",
       "    <tr>\n",
       "      <th>2</th>\n",
       "      <td>13.16</td>\n",
       "      <td>2.36</td>\n",
       "      <td>2.67</td>\n",
       "      <td>18.6</td>\n",
       "      <td>101.0</td>\n",
       "      <td>2.80</td>\n",
       "      <td>3.24</td>\n",
       "      <td>0.30</td>\n",
       "      <td>2.81</td>\n",
       "      <td>5.68</td>\n",
       "      <td>1.03</td>\n",
       "      <td>3.17</td>\n",
       "      <td>1185.0</td>\n",
       "    </tr>\n",
       "    <tr>\n",
       "      <th>3</th>\n",
       "      <td>14.37</td>\n",
       "      <td>1.95</td>\n",
       "      <td>2.50</td>\n",
       "      <td>16.8</td>\n",
       "      <td>113.0</td>\n",
       "      <td>3.85</td>\n",
       "      <td>3.49</td>\n",
       "      <td>0.24</td>\n",
       "      <td>2.18</td>\n",
       "      <td>7.80</td>\n",
       "      <td>0.86</td>\n",
       "      <td>3.45</td>\n",
       "      <td>1480.0</td>\n",
       "    </tr>\n",
       "    <tr>\n",
       "      <th>4</th>\n",
       "      <td>13.24</td>\n",
       "      <td>2.59</td>\n",
       "      <td>2.87</td>\n",
       "      <td>21.0</td>\n",
       "      <td>118.0</td>\n",
       "      <td>2.80</td>\n",
       "      <td>2.69</td>\n",
       "      <td>0.39</td>\n",
       "      <td>1.82</td>\n",
       "      <td>4.32</td>\n",
       "      <td>1.04</td>\n",
       "      <td>2.93</td>\n",
       "      <td>735.0</td>\n",
       "    </tr>\n",
       "  </tbody>\n",
       "</table>\n",
       "</div>"
      ],
      "text/plain": [
       "   alcohol  malic_acid   ash  alcalinity_of_ash  magnesium  total_phenols  \\\n",
       "0    14.23        1.71  2.43               15.6      127.0           2.80   \n",
       "1    13.20        1.78  2.14               11.2      100.0           2.65   \n",
       "2    13.16        2.36  2.67               18.6      101.0           2.80   \n",
       "3    14.37        1.95  2.50               16.8      113.0           3.85   \n",
       "4    13.24        2.59  2.87               21.0      118.0           2.80   \n",
       "\n",
       "   flavanoids  nonflavanoid_phenols  proanthocyanins  color_intensity   hue  \\\n",
       "0        3.06                  0.28             2.29             5.64  1.04   \n",
       "1        2.76                  0.26             1.28             4.38  1.05   \n",
       "2        3.24                  0.30             2.81             5.68  1.03   \n",
       "3        3.49                  0.24             2.18             7.80  0.86   \n",
       "4        2.69                  0.39             1.82             4.32  1.04   \n",
       "\n",
       "   od280/od315_of_diluted_wines  proline  \n",
       "0                          3.92   1065.0  \n",
       "1                          3.40   1050.0  \n",
       "2                          3.17   1185.0  \n",
       "3                          3.45   1480.0  \n",
       "4                          2.93    735.0  "
      ]
     },
     "execution_count": 22,
     "metadata": {},
     "output_type": "execute_result"
    }
   ],
   "source": [
    "df=pd.DataFrame(dataset.data,columns=dataset.feature_names)\n",
    "df.head()"
   ]
  },
  {
   "cell_type": "code",
   "execution_count": 25,
   "id": "398ecd14-8d78-46e2-a55a-5aca03f7ec3f",
   "metadata": {},
   "outputs": [],
   "source": [
    "X=df\n",
    "y=dataset.target"
   ]
  },
  {
   "cell_type": "code",
   "execution_count": 26,
   "id": "db649f3b-7288-47c6-a5c2-003a06e1d78f",
   "metadata": {},
   "outputs": [
    {
     "data": {
      "text/plain": [
       "(     alcohol  malic_acid   ash  alcalinity_of_ash  magnesium  total_phenols  \\\n",
       " 0      14.23        1.71  2.43               15.6      127.0           2.80   \n",
       " 1      13.20        1.78  2.14               11.2      100.0           2.65   \n",
       " 2      13.16        2.36  2.67               18.6      101.0           2.80   \n",
       " 3      14.37        1.95  2.50               16.8      113.0           3.85   \n",
       " 4      13.24        2.59  2.87               21.0      118.0           2.80   \n",
       " ..       ...         ...   ...                ...        ...            ...   \n",
       " 173    13.71        5.65  2.45               20.5       95.0           1.68   \n",
       " 174    13.40        3.91  2.48               23.0      102.0           1.80   \n",
       " 175    13.27        4.28  2.26               20.0      120.0           1.59   \n",
       " 176    13.17        2.59  2.37               20.0      120.0           1.65   \n",
       " 177    14.13        4.10  2.74               24.5       96.0           2.05   \n",
       " \n",
       "      flavanoids  nonflavanoid_phenols  proanthocyanins  color_intensity   hue  \\\n",
       " 0          3.06                  0.28             2.29             5.64  1.04   \n",
       " 1          2.76                  0.26             1.28             4.38  1.05   \n",
       " 2          3.24                  0.30             2.81             5.68  1.03   \n",
       " 3          3.49                  0.24             2.18             7.80  0.86   \n",
       " 4          2.69                  0.39             1.82             4.32  1.04   \n",
       " ..          ...                   ...              ...              ...   ...   \n",
       " 173        0.61                  0.52             1.06             7.70  0.64   \n",
       " 174        0.75                  0.43             1.41             7.30  0.70   \n",
       " 175        0.69                  0.43             1.35            10.20  0.59   \n",
       " 176        0.68                  0.53             1.46             9.30  0.60   \n",
       " 177        0.76                  0.56             1.35             9.20  0.61   \n",
       " \n",
       "      od280/od315_of_diluted_wines  proline  \n",
       " 0                            3.92   1065.0  \n",
       " 1                            3.40   1050.0  \n",
       " 2                            3.17   1185.0  \n",
       " 3                            3.45   1480.0  \n",
       " 4                            2.93    735.0  \n",
       " ..                            ...      ...  \n",
       " 173                          1.74    740.0  \n",
       " 174                          1.56    750.0  \n",
       " 175                          1.56    835.0  \n",
       " 176                          1.62    840.0  \n",
       " 177                          1.60    560.0  \n",
       " \n",
       " [178 rows x 13 columns],\n",
       " array([0, 0, 0, 0, 0, 0, 0, 0, 0, 0, 0, 0, 0, 0, 0, 0, 0, 0, 0, 0, 0, 0,\n",
       "        0, 0, 0, 0, 0, 0, 0, 0, 0, 0, 0, 0, 0, 0, 0, 0, 0, 0, 0, 0, 0, 0,\n",
       "        0, 0, 0, 0, 0, 0, 0, 0, 0, 0, 0, 0, 0, 0, 0, 1, 1, 1, 1, 1, 1, 1,\n",
       "        1, 1, 1, 1, 1, 1, 1, 1, 1, 1, 1, 1, 1, 1, 1, 1, 1, 1, 1, 1, 1, 1,\n",
       "        1, 1, 1, 1, 1, 1, 1, 1, 1, 1, 1, 1, 1, 1, 1, 1, 1, 1, 1, 1, 1, 1,\n",
       "        1, 1, 1, 1, 1, 1, 1, 1, 1, 1, 1, 1, 1, 1, 1, 1, 1, 1, 1, 1, 2, 2,\n",
       "        2, 2, 2, 2, 2, 2, 2, 2, 2, 2, 2, 2, 2, 2, 2, 2, 2, 2, 2, 2, 2, 2,\n",
       "        2, 2, 2, 2, 2, 2, 2, 2, 2, 2, 2, 2, 2, 2, 2, 2, 2, 2, 2, 2, 2, 2,\n",
       "        2, 2]))"
      ]
     },
     "execution_count": 26,
     "metadata": {},
     "output_type": "execute_result"
    }
   ],
   "source": [
    "X,y"
   ]
  },
  {
   "cell_type": "code",
   "execution_count": 27,
   "id": "2858d8c7-4757-4e3a-b68d-fc16a6813e8e",
   "metadata": {},
   "outputs": [],
   "source": [
    "from sklearn.preprocessing import StandardScaler\n",
    "scaler=StandardScaler()"
   ]
  },
  {
   "cell_type": "code",
   "execution_count": 29,
   "id": "8b154756-291d-48ca-abc8-46646c21fa76",
   "metadata": {},
   "outputs": [],
   "source": [
    "scaled=scaler.fit_transform(X,y)"
   ]
  },
  {
   "cell_type": "code",
   "execution_count": 64,
   "id": "8afdc5d2-ea19-4287-86a6-c9d93acae85b",
   "metadata": {},
   "outputs": [
    {
     "data": {
      "text/plain": [
       "array([[ 1.51861254, -0.5622498 ,  0.23205254, ...,  0.36217728,\n",
       "         1.84791957,  1.01300893],\n",
       "       [ 0.24628963, -0.49941338, -0.82799632, ...,  0.40605066,\n",
       "         1.1134493 ,  0.96524152],\n",
       "       [ 0.19687903,  0.02123125,  1.10933436, ...,  0.31830389,\n",
       "         0.78858745,  1.39514818],\n",
       "       ...,\n",
       "       [ 0.33275817,  1.74474449, -0.38935541, ..., -1.61212515,\n",
       "        -1.48544548,  0.28057537],\n",
       "       [ 0.20923168,  0.22769377,  0.01273209, ..., -1.56825176,\n",
       "        -1.40069891,  0.29649784],\n",
       "       [ 1.39508604,  1.58316512,  1.36520822, ..., -1.52437837,\n",
       "        -1.42894777, -0.59516041]])"
      ]
     },
     "execution_count": 64,
     "metadata": {},
     "output_type": "execute_result"
    }
   ],
   "source": [
    "scaled"
   ]
  },
  {
   "cell_type": "code",
   "execution_count": 65,
   "id": "2b804fcf-5898-4bfd-85be-b1acd59018ab",
   "metadata": {},
   "outputs": [
    {
     "data": {
      "text/plain": [
       "alcohol                         0\n",
       "malic_acid                      0\n",
       "ash                             0\n",
       "alcalinity_of_ash               0\n",
       "magnesium                       0\n",
       "total_phenols                   0\n",
       "flavanoids                      0\n",
       "nonflavanoid_phenols            0\n",
       "proanthocyanins                 0\n",
       "color_intensity                 0\n",
       "hue                             0\n",
       "od280/od315_of_diluted_wines    0\n",
       "proline                         0\n",
       "dtype: int64"
      ]
     },
     "execution_count": 65,
     "metadata": {},
     "output_type": "execute_result"
    }
   ],
   "source": [
    "df.isnull().sum()"
   ]
  },
  {
   "cell_type": "code",
   "execution_count": 66,
   "id": "4036e655-9d3e-45e9-b45f-725d2b5c8a00",
   "metadata": {},
   "outputs": [],
   "source": [
    "from sklearn.model_selection import train_test_split\n",
    "\n",
    "X_train, X_test, y_train, y_test = train_test_split(X, y, test_size=0.33, random_state=42)"
   ]
  },
  {
   "cell_type": "code",
   "execution_count": 67,
   "id": "fcd171bf-ffa1-4173-a548-4df1e86ad8e3",
   "metadata": {},
   "outputs": [],
   "source": [
    "from sklearn.decomposition import PCA"
   ]
  },
  {
   "cell_type": "code",
   "execution_count": 68,
   "id": "004e160b-6a1d-4454-bd0e-4725a7c21eb7",
   "metadata": {},
   "outputs": [],
   "source": [
    "pca=PCA(n_components=3)"
   ]
  },
  {
   "cell_type": "code",
   "execution_count": 69,
   "id": "7e8e90bf-24a2-4012-a54c-8504a7a948e7",
   "metadata": {},
   "outputs": [
    {
     "data": {
      "text/plain": [
       "array([[ 2.93369519e+02, -5.69083025e+00,  1.65610712e+00],\n",
       "       [-3.26937012e+02, -1.44666879e+01,  3.46966781e-01],\n",
       "       [-3.13817263e+02, -9.84621739e+00,  5.36137503e+00],\n",
       "       [-2.25875863e+01,  5.04616885e+01,  4.91348093e+00],\n",
       "       [-5.68217819e+01, -1.16860078e+01, -1.27378622e+00],\n",
       "       [ 5.38199361e+02, -1.64540952e+01, -4.22947284e-01],\n",
       "       [ 5.48230865e+02, -1.57094788e+01,  1.66030832e+00],\n",
       "       [ 5.43173097e+02, -1.75600357e+01, -5.08839839e-01],\n",
       "       [ 1.13613516e+02,  8.91918872e+00, -1.69711627e-01],\n",
       "       [-6.25649815e+00,  1.72961898e+01, -6.36085580e-01],\n",
       "       [ 2.48433825e+02, -1.79470294e+00,  1.34735825e+00],\n",
       "       [ 1.96571782e+02,  5.72431207e+01,  1.94637928e+00],\n",
       "       [-2.31636286e+02, -3.48471932e-01,  1.37344515e+00],\n",
       "       [-3.13583963e+02,  2.14959324e+00,  5.36270971e+00],\n",
       "       [ 7.68344188e+02, -1.09054037e+01, -2.66685545e+00],\n",
       "       [-1.16865712e+02, -1.24894330e+01, -2.54802057e+00],\n",
       "       [-3.61819366e+02, -7.76048915e+00,  8.96591236e-03],\n",
       "       [ 3.23885993e+02,  1.97020427e+01,  2.93504656e+00],\n",
       "       [-2.21643082e+02,  5.71502086e-01, -2.80687908e+00],\n",
       "       [-3.89807389e+02, -7.18559449e+00,  3.09342786e-01],\n",
       "       [-3.86446860e+02,  1.06506718e+01,  3.28012232e+00],\n",
       "       [ 1.43519577e+02,  3.26625855e+00,  2.08530485e+00],\n",
       "       [-1.15931670e+02,  3.54215343e+01,  1.90702199e-01],\n",
       "       [ 1.73500128e+02,  2.74329785e+00, -3.62225417e-01],\n",
       "       [ 5.37442868e+01,  1.50107655e+01,  3.50184162e+00],\n",
       "       [-2.75757923e+02, -3.22628941e+00, -6.95193715e+00],\n",
       "       [ 8.88179377e+01,  2.15457914e+01, -4.69133847e+00],\n",
       "       [ 2.73246906e+02, -1.12586545e+01,  3.47279431e-01],\n",
       "       [-1.81632183e+02,  8.24651470e-01, -3.65898306e+00],\n",
       "       [-2.78715761e+01, -1.43419238e+01,  8.11998198e-01],\n",
       "       [-2.78549257e+02,  5.65575588e+00, -1.28764139e+00],\n",
       "       [-2.21671046e+02, -2.58406288e+00,  3.15320724e+00],\n",
       "       [ 1.89809223e+01,  2.65788648e+01,  6.90215968e+00],\n",
       "       [-1.79804254e+02, -9.40627449e+00,  2.22646471e+00],\n",
       "       [-2.46774182e+02, -5.96887671e+00, -1.52899006e+00],\n",
       "       [-1.16665118e+02, -2.58019112e+00,  5.69589058e-01],\n",
       "       [-1.70724162e+00, -5.77430997e+00, -2.06614669e+00],\n",
       "       [-1.71466621e+02,  8.56208394e+00, -1.57959569e+00],\n",
       "       [ 2.43390241e+02, -4.69825759e+00,  2.14004876e+00],\n",
       "       [-3.96555352e+02,  4.82853703e+00,  4.15373957e+00],\n",
       "       [-4.67073334e+01, -5.95395613e+00,  5.09546754e-01],\n",
       "       [-4.63878249e+01,  1.12126629e+01, -4.11851327e+00],\n",
       "       [-2.91528079e+02,  4.76408504e+00,  4.17201780e+00],\n",
       "       [ 2.44053459e+02,  3.36499360e+01, -9.79426248e+00],\n",
       "       [ 4.93923754e+02,  2.14846848e+01, -1.71173251e+00],\n",
       "       [-3.63834601e+02, -8.72745354e+00,  7.64339990e-01],\n",
       "       [-1.41471902e+02,  7.95393378e+00, -1.16859073e+00],\n",
       "       [-1.51580762e+02,  3.22653339e+00, -3.60824343e+00],\n",
       "       [-1.11692367e+02, -4.73875970e+00,  2.27457364e+00],\n",
       "       [ 9.87711530e+01,  1.72684505e+01, -1.40556675e+00],\n",
       "       [-1.34525441e+02,  4.76685810e+00,  5.65849605e-01],\n",
       "       [-3.34847477e+02, -9.28552104e+00,  3.12234378e-01],\n",
       "       [-4.26730125e+02, -2.47585280e+00,  1.87075220e-01],\n",
       "       [ 6.33574303e+02,  1.70404207e+00, -8.95066517e-01],\n",
       "       [ 7.08512674e+02, -2.80716082e+00,  4.22014839e-01],\n",
       "       [-2.21800420e+02, -8.44924879e+00, -1.29455855e+00],\n",
       "       [ 7.38521085e+02, -2.33183392e+00, -1.42797981e+00],\n",
       "       [-2.21810437e+02, -8.42438665e+00, -2.64456404e+00],\n",
       "       [ 5.18467413e+02, -3.00015445e+00, -1.13537981e+00],\n",
       "       [ 1.78355914e+02, -4.31023067e+00, -1.76136691e+00],\n",
       "       [-4.63783061e+02, -5.83435604e+00,  3.45010245e+00],\n",
       "       [-2.41318457e+02,  1.57728931e+01,  3.57432579e+00],\n",
       "       [ 3.53519473e+02,  2.20563127e+00, -9.25256473e-01],\n",
       "       [ 3.23389259e+02, -5.28161521e+00,  1.76047022e+00],\n",
       "       [ 5.53703664e+02,  9.25666940e+00, -5.33183931e-01],\n",
       "       [-3.61893872e+02, -1.17581484e+01,  5.49390188e-01],\n",
       "       [-6.15221958e+01,  3.27335500e+00,  2.49691487e+00],\n",
       "       [ 1.28413316e+02, -3.71703327e-01, -1.16174271e+00],\n",
       "       [-2.18352964e+01, -1.14116996e+01, -1.85174074e+00],\n",
       "       [-1.79433759e+02,  9.62762110e+00,  1.74682928e+00],\n",
       "       [-2.91837153e+02, -9.09569198e+00, -8.61347951e-01],\n",
       "       [-2.26870675e+02, -1.13409658e+01, -2.19697526e+00],\n",
       "       [-2.61758788e+02, -6.69582060e+00,  1.27895681e-01],\n",
       "       [-6.14577418e+01,  7.35589453e+00, -3.04856346e-01],\n",
       "       [-1.17200581e+02, -2.84800042e+01, -3.44477781e+00],\n",
       "       [ 3.03307760e+02, -9.94069690e+00,  3.72298655e+00],\n",
       "       [ 4.08183411e+02, -1.80548774e+01,  5.48493981e+00],\n",
       "       [-2.21755617e+02, -8.82868082e+00,  1.01757696e+01],\n",
       "       [-3.16251283e+02,  2.15194805e+01, -3.97211108e+00],\n",
       "       [-2.11486661e+02,  7.28461035e+00,  5.88865306e-01],\n",
       "       [ 3.88612914e+02,  6.58157581e+00, -2.31075899e+00],\n",
       "       [-2.69829173e+02, -8.46981669e+00, -2.88053987e+00],\n",
       "       [-1.67514654e+01, -7.42961089e+00, -3.48221244e+00],\n",
       "       [-9.18717490e+01, -1.41131844e+01,  1.90477309e+00],\n",
       "       [-9.17489297e+01, -6.96767438e+00, -2.50845650e+00],\n",
       "       [-6.64712690e+01,  6.40264576e+00,  1.24537390e+00],\n",
       "       [-3.21786491e+02, -7.57886299e+00,  2.36408900e+00],\n",
       "       [ 3.18703821e+02,  1.08286572e+01,  1.80761905e+00],\n",
       "       [-2.53886489e+02, -1.18272187e+01, -1.56344241e+00],\n",
       "       [ 4.08197833e+02, -1.70032081e+01,  4.18793278e+00],\n",
       "       [ 9.37729014e+01,  1.73729359e+01, -1.70619761e+00],\n",
       "       [ 5.43461476e+02, -3.53276376e+00, -1.68248802e-01],\n",
       "       [ 3.18397219e+02, -4.08210533e+00, -1.07414591e+00],\n",
       "       [-6.19255881e+01, -1.56106507e+01, -1.70281328e+00],\n",
       "       [ 2.84328452e+01,  5.52487832e-01,  8.75126456e-01],\n",
       "       [ 5.28341782e+02, -9.24615970e+00, -3.24525945e-01],\n",
       "       [-8.17578758e+01, -8.18949069e+00, -1.33228347e+00],\n",
       "       [-1.61986440e+02, -1.76497565e+01, -1.80688606e+00],\n",
       "       [ 3.63285702e+02, -1.00094480e+01, -3.93208640e-01],\n",
       "       [ 1.38266372e+02, -6.31509940e+00, -8.83362592e+00],\n",
       "       [ 8.47068776e+00,  4.16290783e+00, -5.58080072e+00],\n",
       "       [ 3.08375511e+02, -7.13575440e+00,  6.63184500e+00],\n",
       "       [ 4.48556866e+02,  1.24432363e+00,  3.04892424e+00],\n",
       "       [-1.91312909e+02,  1.59819612e+01, -1.54016000e+00],\n",
       "       [-1.11144626e+02,  2.32466857e+01,  2.91679218e+00],\n",
       "       [-2.61316356e+02,  1.63874835e+01, -1.80700305e+00],\n",
       "       [-3.26818715e+02, -8.50514508e+00,  2.11564743e+00],\n",
       "       [-3.35765311e+02, -6.36424904e+00,  3.66401432e+00],\n",
       "       [-2.46842837e+02, -1.00315202e+01,  4.65681495e-01],\n",
       "       [-1.79845259e+02, -9.18049045e+00, -5.08345554e+00],\n",
       "       [ 1.44372777e+02, -2.65385909e+00, -1.64330078e+00],\n",
       "       [-2.76213505e+02,  2.38214238e+01, -6.41658923e+00],\n",
       "       [-1.81664453e+02, -1.11503191e+00, -5.02331790e+00],\n",
       "       [ 3.89253004e+01,  2.42830293e+01,  4.15676197e+00],\n",
       "       [-3.31837318e+02, -8.22318968e+00, -3.30221097e+00],\n",
       "       [-2.31950194e+02, -1.63543804e+01,  1.64588825e+00],\n",
       "       [ 8.05315612e+02, -1.47744471e+01,  2.57829362e+00],\n",
       "       [-2.46958099e+02, -1.60170621e+01,  5.04062105e-02],\n",
       "       [-3.03592223e+02,  3.09028987e+00,  7.32730350e-01]])"
      ]
     },
     "execution_count": 69,
     "metadata": {},
     "output_type": "execute_result"
    }
   ],
   "source": [
    "X_train=pca.fit_transform(X_train)\n",
    "X_train"
   ]
  },
  {
   "cell_type": "code",
   "execution_count": 70,
   "id": "352700d7-23a5-46ce-ba92-bfd57b75ae25",
   "metadata": {},
   "outputs": [
    {
     "data": {
      "text/plain": [
       "array([[ 1.77738063e-03, -8.13532033e-04,  1.41672133e-04,\n",
       "        -5.43218358e-03,  1.96719103e-02,  1.04099788e-03,\n",
       "         1.54504422e-03, -1.15638097e-04,  6.52261761e-04,\n",
       "         2.26846944e-03,  1.61421529e-04,  7.81011292e-04,\n",
       "         9.99784964e-01],\n",
       "       [-1.24757937e-03, -2.18892204e-03,  4.26789890e-03,\n",
       "         2.92447371e-02,  9.99268704e-01,  2.10452658e-03,\n",
       "         1.58938501e-03, -1.71922512e-03,  5.06144001e-03,\n",
       "         1.28363411e-02, -1.05266391e-05, -3.54662715e-04,\n",
       "        -1.95400181e-02],\n",
       "       [ 8.50004606e-04, -9.17970834e-02, -5.28999282e-02,\n",
       "        -9.69817624e-01,  3.04113419e-02,  3.71475189e-02,\n",
       "         6.78900093e-02, -1.42725856e-02,  3.20738945e-02,\n",
       "        -1.92179612e-01,  1.90704023e-02,  5.24630220e-02,\n",
       "        -5.71063435e-03]])"
      ]
     },
     "execution_count": 70,
     "metadata": {},
     "output_type": "execute_result"
    }
   ],
   "source": [
    "pca.components_"
   ]
  },
  {
   "cell_type": "code",
   "execution_count": 71,
   "id": "50b00e43-5d15-44ce-8fba-0e8d4767a54f",
   "metadata": {},
   "outputs": [
    {
     "data": {
      "text/plain": [
       "array([9.97776340e-01, 2.04102621e-03, 1.01662472e-04])"
      ]
     },
     "execution_count": 71,
     "metadata": {},
     "output_type": "execute_result"
    }
   ],
   "source": [
    "pca.explained_variance_ratio_"
   ]
  },
  {
   "cell_type": "code",
   "execution_count": 72,
   "id": "8cdf767a-867b-46d0-8f76-7d5848cbd877",
   "metadata": {},
   "outputs": [
    {
     "data": {
      "text/plain": [
       "array([9.46862095e+04, 1.93687731e+02, 9.64748682e+00])"
      ]
     },
     "execution_count": 72,
     "metadata": {},
     "output_type": "execute_result"
    }
   ],
   "source": [
    "pca.explained_variance_"
   ]
  },
  {
   "cell_type": "code",
   "execution_count": 73,
   "id": "95b1d2ca-ed61-4a4f-8ff2-344f0d301526",
   "metadata": {},
   "outputs": [
    {
     "data": {
      "text/plain": [
       "(array([[ 2.93369519e+02, -5.69083025e+00,  1.65610712e+00],\n",
       "        [-3.26937012e+02, -1.44666879e+01,  3.46966781e-01],\n",
       "        [-3.13817263e+02, -9.84621739e+00,  5.36137503e+00],\n",
       "        [-2.25875863e+01,  5.04616885e+01,  4.91348093e+00],\n",
       "        [-5.68217819e+01, -1.16860078e+01, -1.27378622e+00],\n",
       "        [ 5.38199361e+02, -1.64540952e+01, -4.22947284e-01],\n",
       "        [ 5.48230865e+02, -1.57094788e+01,  1.66030832e+00],\n",
       "        [ 5.43173097e+02, -1.75600357e+01, -5.08839839e-01],\n",
       "        [ 1.13613516e+02,  8.91918872e+00, -1.69711627e-01],\n",
       "        [-6.25649815e+00,  1.72961898e+01, -6.36085580e-01],\n",
       "        [ 2.48433825e+02, -1.79470294e+00,  1.34735825e+00],\n",
       "        [ 1.96571782e+02,  5.72431207e+01,  1.94637928e+00],\n",
       "        [-2.31636286e+02, -3.48471932e-01,  1.37344515e+00],\n",
       "        [-3.13583963e+02,  2.14959324e+00,  5.36270971e+00],\n",
       "        [ 7.68344188e+02, -1.09054037e+01, -2.66685545e+00],\n",
       "        [-1.16865712e+02, -1.24894330e+01, -2.54802057e+00],\n",
       "        [-3.61819366e+02, -7.76048915e+00,  8.96591236e-03],\n",
       "        [ 3.23885993e+02,  1.97020427e+01,  2.93504656e+00],\n",
       "        [-2.21643082e+02,  5.71502086e-01, -2.80687908e+00],\n",
       "        [-3.89807389e+02, -7.18559449e+00,  3.09342786e-01],\n",
       "        [-3.86446860e+02,  1.06506718e+01,  3.28012232e+00],\n",
       "        [ 1.43519577e+02,  3.26625855e+00,  2.08530485e+00],\n",
       "        [-1.15931670e+02,  3.54215343e+01,  1.90702199e-01],\n",
       "        [ 1.73500128e+02,  2.74329785e+00, -3.62225417e-01],\n",
       "        [ 5.37442868e+01,  1.50107655e+01,  3.50184162e+00],\n",
       "        [-2.75757923e+02, -3.22628941e+00, -6.95193715e+00],\n",
       "        [ 8.88179377e+01,  2.15457914e+01, -4.69133847e+00],\n",
       "        [ 2.73246906e+02, -1.12586545e+01,  3.47279431e-01],\n",
       "        [-1.81632183e+02,  8.24651470e-01, -3.65898306e+00],\n",
       "        [-2.78715761e+01, -1.43419238e+01,  8.11998198e-01],\n",
       "        [-2.78549257e+02,  5.65575588e+00, -1.28764139e+00],\n",
       "        [-2.21671046e+02, -2.58406288e+00,  3.15320724e+00],\n",
       "        [ 1.89809223e+01,  2.65788648e+01,  6.90215968e+00],\n",
       "        [-1.79804254e+02, -9.40627449e+00,  2.22646471e+00],\n",
       "        [-2.46774182e+02, -5.96887671e+00, -1.52899006e+00],\n",
       "        [-1.16665118e+02, -2.58019112e+00,  5.69589058e-01],\n",
       "        [-1.70724162e+00, -5.77430997e+00, -2.06614669e+00],\n",
       "        [-1.71466621e+02,  8.56208394e+00, -1.57959569e+00],\n",
       "        [ 2.43390241e+02, -4.69825759e+00,  2.14004876e+00],\n",
       "        [-3.96555352e+02,  4.82853703e+00,  4.15373957e+00],\n",
       "        [-4.67073334e+01, -5.95395613e+00,  5.09546754e-01],\n",
       "        [-4.63878249e+01,  1.12126629e+01, -4.11851327e+00],\n",
       "        [-2.91528079e+02,  4.76408504e+00,  4.17201780e+00],\n",
       "        [ 2.44053459e+02,  3.36499360e+01, -9.79426248e+00],\n",
       "        [ 4.93923754e+02,  2.14846848e+01, -1.71173251e+00],\n",
       "        [-3.63834601e+02, -8.72745354e+00,  7.64339990e-01],\n",
       "        [-1.41471902e+02,  7.95393378e+00, -1.16859073e+00],\n",
       "        [-1.51580762e+02,  3.22653339e+00, -3.60824343e+00],\n",
       "        [-1.11692367e+02, -4.73875970e+00,  2.27457364e+00],\n",
       "        [ 9.87711530e+01,  1.72684505e+01, -1.40556675e+00],\n",
       "        [-1.34525441e+02,  4.76685810e+00,  5.65849605e-01],\n",
       "        [-3.34847477e+02, -9.28552104e+00,  3.12234378e-01],\n",
       "        [-4.26730125e+02, -2.47585280e+00,  1.87075220e-01],\n",
       "        [ 6.33574303e+02,  1.70404207e+00, -8.95066517e-01],\n",
       "        [ 7.08512674e+02, -2.80716082e+00,  4.22014839e-01],\n",
       "        [-2.21800420e+02, -8.44924879e+00, -1.29455855e+00],\n",
       "        [ 7.38521085e+02, -2.33183392e+00, -1.42797981e+00],\n",
       "        [-2.21810437e+02, -8.42438665e+00, -2.64456404e+00],\n",
       "        [ 5.18467413e+02, -3.00015445e+00, -1.13537981e+00],\n",
       "        [ 1.78355914e+02, -4.31023067e+00, -1.76136691e+00],\n",
       "        [-4.63783061e+02, -5.83435604e+00,  3.45010245e+00],\n",
       "        [-2.41318457e+02,  1.57728931e+01,  3.57432579e+00],\n",
       "        [ 3.53519473e+02,  2.20563127e+00, -9.25256473e-01],\n",
       "        [ 3.23389259e+02, -5.28161521e+00,  1.76047022e+00],\n",
       "        [ 5.53703664e+02,  9.25666940e+00, -5.33183931e-01],\n",
       "        [-3.61893872e+02, -1.17581484e+01,  5.49390188e-01],\n",
       "        [-6.15221958e+01,  3.27335500e+00,  2.49691487e+00],\n",
       "        [ 1.28413316e+02, -3.71703327e-01, -1.16174271e+00],\n",
       "        [-2.18352964e+01, -1.14116996e+01, -1.85174074e+00],\n",
       "        [-1.79433759e+02,  9.62762110e+00,  1.74682928e+00],\n",
       "        [-2.91837153e+02, -9.09569198e+00, -8.61347951e-01],\n",
       "        [-2.26870675e+02, -1.13409658e+01, -2.19697526e+00],\n",
       "        [-2.61758788e+02, -6.69582060e+00,  1.27895681e-01],\n",
       "        [-6.14577418e+01,  7.35589453e+00, -3.04856346e-01],\n",
       "        [-1.17200581e+02, -2.84800042e+01, -3.44477781e+00],\n",
       "        [ 3.03307760e+02, -9.94069690e+00,  3.72298655e+00],\n",
       "        [ 4.08183411e+02, -1.80548774e+01,  5.48493981e+00],\n",
       "        [-2.21755617e+02, -8.82868082e+00,  1.01757696e+01],\n",
       "        [-3.16251283e+02,  2.15194805e+01, -3.97211108e+00],\n",
       "        [-2.11486661e+02,  7.28461035e+00,  5.88865306e-01],\n",
       "        [ 3.88612914e+02,  6.58157581e+00, -2.31075899e+00],\n",
       "        [-2.69829173e+02, -8.46981669e+00, -2.88053987e+00],\n",
       "        [-1.67514654e+01, -7.42961089e+00, -3.48221244e+00],\n",
       "        [-9.18717490e+01, -1.41131844e+01,  1.90477309e+00],\n",
       "        [-9.17489297e+01, -6.96767438e+00, -2.50845650e+00],\n",
       "        [-6.64712690e+01,  6.40264576e+00,  1.24537390e+00],\n",
       "        [-3.21786491e+02, -7.57886299e+00,  2.36408900e+00],\n",
       "        [ 3.18703821e+02,  1.08286572e+01,  1.80761905e+00],\n",
       "        [-2.53886489e+02, -1.18272187e+01, -1.56344241e+00],\n",
       "        [ 4.08197833e+02, -1.70032081e+01,  4.18793278e+00],\n",
       "        [ 9.37729014e+01,  1.73729359e+01, -1.70619761e+00],\n",
       "        [ 5.43461476e+02, -3.53276376e+00, -1.68248802e-01],\n",
       "        [ 3.18397219e+02, -4.08210533e+00, -1.07414591e+00],\n",
       "        [-6.19255881e+01, -1.56106507e+01, -1.70281328e+00],\n",
       "        [ 2.84328452e+01,  5.52487832e-01,  8.75126456e-01],\n",
       "        [ 5.28341782e+02, -9.24615970e+00, -3.24525945e-01],\n",
       "        [-8.17578758e+01, -8.18949069e+00, -1.33228347e+00],\n",
       "        [-1.61986440e+02, -1.76497565e+01, -1.80688606e+00],\n",
       "        [ 3.63285702e+02, -1.00094480e+01, -3.93208640e-01],\n",
       "        [ 1.38266372e+02, -6.31509940e+00, -8.83362592e+00],\n",
       "        [ 8.47068776e+00,  4.16290783e+00, -5.58080072e+00],\n",
       "        [ 3.08375511e+02, -7.13575440e+00,  6.63184500e+00],\n",
       "        [ 4.48556866e+02,  1.24432363e+00,  3.04892424e+00],\n",
       "        [-1.91312909e+02,  1.59819612e+01, -1.54016000e+00],\n",
       "        [-1.11144626e+02,  2.32466857e+01,  2.91679218e+00],\n",
       "        [-2.61316356e+02,  1.63874835e+01, -1.80700305e+00],\n",
       "        [-3.26818715e+02, -8.50514508e+00,  2.11564743e+00],\n",
       "        [-3.35765311e+02, -6.36424904e+00,  3.66401432e+00],\n",
       "        [-2.46842837e+02, -1.00315202e+01,  4.65681495e-01],\n",
       "        [-1.79845259e+02, -9.18049045e+00, -5.08345554e+00],\n",
       "        [ 1.44372777e+02, -2.65385909e+00, -1.64330078e+00],\n",
       "        [-2.76213505e+02,  2.38214238e+01, -6.41658923e+00],\n",
       "        [-1.81664453e+02, -1.11503191e+00, -5.02331790e+00],\n",
       "        [ 3.89253004e+01,  2.42830293e+01,  4.15676197e+00],\n",
       "        [-3.31837318e+02, -8.22318968e+00, -3.30221097e+00],\n",
       "        [-2.31950194e+02, -1.63543804e+01,  1.64588825e+00],\n",
       "        [ 8.05315612e+02, -1.47744471e+01,  2.57829362e+00],\n",
       "        [-2.46958099e+02, -1.60170621e+01,  5.04062105e-02],\n",
       "        [-3.03592223e+02,  3.09028987e+00,  7.32730350e-01]]),\n",
       " array([0, 2, 1, 1, 2, 0, 0, 0, 2, 0, 0, 1, 2, 1, 0, 2, 1, 0, 2, 1, 1, 0,\n",
       "        1, 0, 0, 1, 0, 0, 2, 1, 1, 1, 0, 1, 1, 1, 2, 2, 0, 1, 2, 2, 1, 1,\n",
       "        0, 1, 2, 2, 1, 2, 1, 1, 1, 0, 0, 2, 0, 2, 0, 0, 1, 1, 0, 0, 0, 1,\n",
       "        0, 1, 2, 1, 1, 1, 2, 2, 1, 0, 0, 1, 2, 2, 0, 1, 2, 2, 2, 2, 1, 0,\n",
       "        1, 0, 2, 0, 0, 1, 0, 0, 2, 1, 0, 2, 2, 0, 0, 2, 2, 2, 1, 1, 1, 1,\n",
       "        1, 1, 2, 0, 1, 1, 0, 1, 1]))"
      ]
     },
     "execution_count": 73,
     "metadata": {},
     "output_type": "execute_result"
    }
   ],
   "source": [
    "X_train,y_train"
   ]
  },
  {
   "cell_type": "code",
   "execution_count": 82,
   "id": "892ecaea-f14d-4a94-a593-b2bbe37cfe42",
   "metadata": {},
   "outputs": [
    {
     "data": {
      "text/plain": [
       "<AxesSubplot: >"
      ]
     },
     "execution_count": 82,
     "metadata": {},
     "output_type": "execute_result"
    },
    {
     "data": {
      "image/png": "[encoded data removed]",
      "text/plain": [
       "<Figure size 640x480 with 1 Axes>"
      ]
     },
     "metadata": {},
     "output_type": "display_data"
    }
   ],
   "source": [
    "import seaborn as sns\n",
    "sns.scatterplot(X_train)"
   ]
  },
  {
   "cell_type": "code",
   "execution_count": null,
   "id": "86bbe072-a712-4261-a234-bf27ca936fe9",
   "metadata": {},
   "outputs": [],
   "source": []
  },
  {
   "cell_type": "code",
   "execution_count": null,
   "id": "55422635-75bd-4d58-b595-ed73e0d598ce",
   "metadata": {},
   "outputs": [],
   "source": []
  },
  {
   "cell_type": "code",
   "execution_count": null,
   "id": "137a9ade-6aae-4463-a13c-68940581d44e",
   "metadata": {},
   "outputs": [],
   "source": []
  },
  {
   "cell_type": "code",
   "execution_count": null,
   "id": "ebf21c2f-3238-4262-8673-42cc6945e833",
   "metadata": {},
   "outputs": [],
   "source": []
  }
 ],
 "metadata": {
  "kernelspec": {
   "display_name": "Python 3 (ipykernel)",
   "language": "python",
   "name": "python3"
  },
  "language_info": {
   "codemirror_mode": {
    "name": "ipython",
    "version": 3
   },
   "file_extension": ".py",
   "mimetype": "text/x-python",
   "name": "python",
   "nbconvert_exporter": "python",
   "pygments_lexer": "ipython3",
   "version": "3.10.8"
  }
 },
 "nbformat": 4,
 "nbformat_minor": 5
}
